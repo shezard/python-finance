{
 "cells": [
  {
   "cell_type": "code",
   "execution_count": 27,
   "id": "41d82a3e-5e89-457c-b3cb-45ccdcf25d65",
   "metadata": {
    "tags": []
   },
   "outputs": [],
   "source": [
    "import datetime as dt\n",
    "import yfinance as yf\n",
    "import os\n"
   ]
  },
  {
   "cell_type": "code",
   "execution_count": 28,
   "id": "19c3a738-cc83-4319-80af-ea07b626b5ca",
   "metadata": {
    "tags": []
   },
   "outputs": [],
   "source": [
    "start = dt.datetime(2020,1,1)\n",
    "end = dt.datetime.today()"
   ]
  },
  {
   "cell_type": "code",
   "execution_count": 29,
   "id": "3b7b1cb9-4c0c-4508-b70f-89c7fa20bc16",
   "metadata": {
    "tags": []
   },
   "outputs": [
    {
     "name": "stdout",
     "output_type": "stream",
     "text": [
      "[*********************100%***********************]  1 of 1 completed\n"
     ]
    },
    {
     "data": {
      "text/html": [
       "<div>\n",
       "<style scoped>\n",
       "    .dataframe tbody tr th:only-of-type {\n",
       "        vertical-align: middle;\n",
       "    }\n",
       "\n",
       "    .dataframe tbody tr th {\n",
       "        vertical-align: top;\n",
       "    }\n",
       "\n",
       "    .dataframe thead th {\n",
       "        text-align: right;\n",
       "    }\n",
       "</style>\n",
       "<table border=\"1\" class=\"dataframe\">\n",
       "  <thead>\n",
       "    <tr style=\"text-align: right;\">\n",
       "      <th></th>\n",
       "      <th>Open</th>\n",
       "      <th>High</th>\n",
       "      <th>Low</th>\n",
       "      <th>Close</th>\n",
       "      <th>Adj Close</th>\n",
       "      <th>Volume</th>\n",
       "    </tr>\n",
       "    <tr>\n",
       "      <th>Date</th>\n",
       "      <th></th>\n",
       "      <th></th>\n",
       "      <th></th>\n",
       "      <th></th>\n",
       "      <th></th>\n",
       "      <th></th>\n",
       "    </tr>\n",
       "  </thead>\n",
       "  <tbody>\n",
       "    <tr>\n",
       "      <th>2020-01-02</th>\n",
       "      <td>67.077499</td>\n",
       "      <td>68.406998</td>\n",
       "      <td>67.077499</td>\n",
       "      <td>68.368500</td>\n",
       "      <td>68.368500</td>\n",
       "      <td>28132000</td>\n",
       "    </tr>\n",
       "    <tr>\n",
       "      <th>2020-01-03</th>\n",
       "      <td>67.392998</td>\n",
       "      <td>68.625000</td>\n",
       "      <td>67.277199</td>\n",
       "      <td>68.032997</td>\n",
       "      <td>68.032997</td>\n",
       "      <td>23728000</td>\n",
       "    </tr>\n",
       "    <tr>\n",
       "      <th>2020-01-06</th>\n",
       "      <td>67.500000</td>\n",
       "      <td>69.824997</td>\n",
       "      <td>67.500000</td>\n",
       "      <td>69.710503</td>\n",
       "      <td>69.710503</td>\n",
       "      <td>34646000</td>\n",
       "    </tr>\n",
       "    <tr>\n",
       "      <th>2020-01-07</th>\n",
       "      <td>69.897003</td>\n",
       "      <td>70.149498</td>\n",
       "      <td>69.518997</td>\n",
       "      <td>69.667000</td>\n",
       "      <td>69.667000</td>\n",
       "      <td>30054000</td>\n",
       "    </tr>\n",
       "    <tr>\n",
       "      <th>2020-01-08</th>\n",
       "      <td>69.603996</td>\n",
       "      <td>70.579002</td>\n",
       "      <td>69.542000</td>\n",
       "      <td>70.216003</td>\n",
       "      <td>70.216003</td>\n",
       "      <td>30560000</td>\n",
       "    </tr>\n",
       "  </tbody>\n",
       "</table>\n",
       "</div>"
      ],
      "text/plain": [
       "                 Open       High        Low      Close  Adj Close    Volume\n",
       "Date                                                                       \n",
       "2020-01-02  67.077499  68.406998  67.077499  68.368500  68.368500  28132000\n",
       "2020-01-03  67.392998  68.625000  67.277199  68.032997  68.032997  23728000\n",
       "2020-01-06  67.500000  69.824997  67.500000  69.710503  69.710503  34646000\n",
       "2020-01-07  69.897003  70.149498  69.518997  69.667000  69.667000  30054000\n",
       "2020-01-08  69.603996  70.579002  69.542000  70.216003  70.216003  30560000"
      ]
     },
     "execution_count": 29,
     "metadata": {},
     "output_type": "execute_result"
    }
   ],
   "source": [
    "df = yf.download('GOOG', start=start, end=end)\n",
    "df.head()"
   ]
  },
  {
   "cell_type": "code",
   "execution_count": 30,
   "id": "1f3992fc-1f8a-48e4-ab45-8f3337a45339",
   "metadata": {
    "tags": []
   },
   "outputs": [],
   "source": [
    "df.to_csv(os.getcwd() + '/work/data/GOOG.csv');"
   ]
  }
 ],
 "metadata": {
  "kernelspec": {
   "display_name": "Python 3 (ipykernel)",
   "language": "python",
   "name": "python3"
  },
  "language_info": {
   "codemirror_mode": {
    "name": "ipython",
    "version": 3
   },
   "file_extension": ".py",
   "mimetype": "text/x-python",
   "name": "python",
   "nbconvert_exporter": "python",
   "pygments_lexer": "ipython3",
   "version": "3.10.10"
  }
 },
 "nbformat": 4,
 "nbformat_minor": 5
}
