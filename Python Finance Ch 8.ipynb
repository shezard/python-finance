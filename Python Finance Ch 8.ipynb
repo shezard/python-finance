{
 "cells": [
  {
   "cell_type": "code",
   "execution_count": 1,
   "id": "7118029b-2238-44ca-bce2-2cf9b383d97f",
   "metadata": {
    "tags": []
   },
   "outputs": [],
   "source": [
    "import numpy as np\n",
    "import pandas as pd\n",
    "import yfinance as yf\n",
    "from pylab import mpl\n",
    "mpl.rcParams['font.family'] = 'serif'\n",
    "%matplotlib inline"
   ]
  },
  {
   "cell_type": "code",
   "execution_count": 3,
   "id": "da59478b-a701-4c56-b8c5-567898724663",
   "metadata": {
    "tags": []
   },
   "outputs": [
    {
     "data": {
      "text/html": [
       "<div>\n",
       "<style scoped>\n",
       "    .dataframe tbody tr th:only-of-type {\n",
       "        vertical-align: middle;\n",
       "    }\n",
       "\n",
       "    .dataframe tbody tr th {\n",
       "        vertical-align: top;\n",
       "    }\n",
       "\n",
       "    .dataframe thead th {\n",
       "        text-align: right;\n",
       "    }\n",
       "</style>\n",
       "<table border=\"1\" class=\"dataframe\">\n",
       "  <thead>\n",
       "    <tr style=\"text-align: right;\">\n",
       "      <th></th>\n",
       "      <th>Dividends</th>\n",
       "      <th>Stock Splits</th>\n",
       "    </tr>\n",
       "    <tr>\n",
       "      <th>Date</th>\n",
       "      <th></th>\n",
       "      <th></th>\n",
       "    </tr>\n",
       "  </thead>\n",
       "  <tbody>\n",
       "  </tbody>\n",
       "</table>\n",
       "</div>"
      ],
      "text/plain": [
       "Empty DataFrame\n",
       "Columns: [Dividends, Stock Splits]\n",
       "Index: []"
      ]
     },
     "execution_count": 3,
     "metadata": {},
     "output_type": "execute_result"
    }
   ],
   "source": [
    "tickers = yf.Tickers('GOOGL SPX')\n",
    "tickers.tickers['GOOGL'].info\n",
    "tickers.tickers['GOOGL'].history(period=\"1mo\")\n",
    "tickers.tickers['GOOGL'].actions"
   ]
  },
  {
   "cell_type": "code",
   "execution_count": 4,
   "id": "e55b39a5-0453-4f4c-b931-8cc5071135e5",
   "metadata": {
    "tags": []
   },
   "outputs": [
    {
     "name": "stdout",
     "output_type": "stream",
     "text": [
      "[*********************100%***********************]  1 of 1 completed\n"
     ]
    }
   ],
   "source": [
    "data = yf.download(\"SPY\", start=\"2023-01-01\", end=\"2023-04-01\")"
   ]
  },
  {
   "cell_type": "code",
   "execution_count": 5,
   "id": "abdd8c24-c7ec-4fc2-93f6-e7b55ebd5b78",
   "metadata": {
    "tags": []
   },
   "outputs": [
    {
     "data": {
      "text/html": [
       "<div>\n",
       "<style scoped>\n",
       "    .dataframe tbody tr th:only-of-type {\n",
       "        vertical-align: middle;\n",
       "    }\n",
       "\n",
       "    .dataframe tbody tr th {\n",
       "        vertical-align: top;\n",
       "    }\n",
       "\n",
       "    .dataframe thead th {\n",
       "        text-align: right;\n",
       "    }\n",
       "</style>\n",
       "<table border=\"1\" class=\"dataframe\">\n",
       "  <thead>\n",
       "    <tr style=\"text-align: right;\">\n",
       "      <th></th>\n",
       "      <th>Open</th>\n",
       "      <th>High</th>\n",
       "      <th>Low</th>\n",
       "      <th>Close</th>\n",
       "      <th>Adj Close</th>\n",
       "      <th>Volume</th>\n",
       "    </tr>\n",
       "    <tr>\n",
       "      <th>Date</th>\n",
       "      <th></th>\n",
       "      <th></th>\n",
       "      <th></th>\n",
       "      <th></th>\n",
       "      <th></th>\n",
       "      <th></th>\n",
       "    </tr>\n",
       "  </thead>\n",
       "  <tbody>\n",
       "    <tr>\n",
       "      <th>2023-01-03</th>\n",
       "      <td>384.369995</td>\n",
       "      <td>386.429993</td>\n",
       "      <td>377.829987</td>\n",
       "      <td>380.820007</td>\n",
       "      <td>379.372131</td>\n",
       "      <td>74850700</td>\n",
       "    </tr>\n",
       "    <tr>\n",
       "      <th>2023-01-04</th>\n",
       "      <td>383.179993</td>\n",
       "      <td>385.880005</td>\n",
       "      <td>380.000000</td>\n",
       "      <td>383.760010</td>\n",
       "      <td>382.300964</td>\n",
       "      <td>85934100</td>\n",
       "    </tr>\n",
       "    <tr>\n",
       "      <th>2023-01-05</th>\n",
       "      <td>381.720001</td>\n",
       "      <td>381.839996</td>\n",
       "      <td>378.760010</td>\n",
       "      <td>379.380005</td>\n",
       "      <td>377.937592</td>\n",
       "      <td>76970500</td>\n",
       "    </tr>\n",
       "    <tr>\n",
       "      <th>2023-01-06</th>\n",
       "      <td>382.609985</td>\n",
       "      <td>389.250000</td>\n",
       "      <td>379.410004</td>\n",
       "      <td>388.079987</td>\n",
       "      <td>386.604492</td>\n",
       "      <td>104189600</td>\n",
       "    </tr>\n",
       "    <tr>\n",
       "      <th>2023-01-09</th>\n",
       "      <td>390.369995</td>\n",
       "      <td>393.700012</td>\n",
       "      <td>387.670013</td>\n",
       "      <td>387.859985</td>\n",
       "      <td>386.385345</td>\n",
       "      <td>73978100</td>\n",
       "    </tr>\n",
       "    <tr>\n",
       "      <th>...</th>\n",
       "      <td>...</td>\n",
       "      <td>...</td>\n",
       "      <td>...</td>\n",
       "      <td>...</td>\n",
       "      <td>...</td>\n",
       "      <td>...</td>\n",
       "    </tr>\n",
       "    <tr>\n",
       "      <th>2023-03-27</th>\n",
       "      <td>398.119995</td>\n",
       "      <td>398.920013</td>\n",
       "      <td>395.559998</td>\n",
       "      <td>396.489990</td>\n",
       "      <td>396.489990</td>\n",
       "      <td>74010400</td>\n",
       "    </tr>\n",
       "    <tr>\n",
       "      <th>2023-03-28</th>\n",
       "      <td>395.769989</td>\n",
       "      <td>396.489990</td>\n",
       "      <td>393.690002</td>\n",
       "      <td>395.600006</td>\n",
       "      <td>395.600006</td>\n",
       "      <td>62871700</td>\n",
       "    </tr>\n",
       "    <tr>\n",
       "      <th>2023-03-29</th>\n",
       "      <td>399.929993</td>\n",
       "      <td>401.600006</td>\n",
       "      <td>398.679993</td>\n",
       "      <td>401.350006</td>\n",
       "      <td>401.350006</td>\n",
       "      <td>77497900</td>\n",
       "    </tr>\n",
       "    <tr>\n",
       "      <th>2023-03-30</th>\n",
       "      <td>404.089996</td>\n",
       "      <td>404.350006</td>\n",
       "      <td>401.760010</td>\n",
       "      <td>403.700012</td>\n",
       "      <td>403.700012</td>\n",
       "      <td>69840000</td>\n",
       "    </tr>\n",
       "    <tr>\n",
       "      <th>2023-03-31</th>\n",
       "      <td>404.660004</td>\n",
       "      <td>409.700012</td>\n",
       "      <td>404.549988</td>\n",
       "      <td>409.390015</td>\n",
       "      <td>409.390015</td>\n",
       "      <td>111974600</td>\n",
       "    </tr>\n",
       "  </tbody>\n",
       "</table>\n",
       "<p>62 rows × 6 columns</p>\n",
       "</div>"
      ],
      "text/plain": [
       "                  Open        High         Low       Close   Adj Close  \\\n",
       "Date                                                                     \n",
       "2023-01-03  384.369995  386.429993  377.829987  380.820007  379.372131   \n",
       "2023-01-04  383.179993  385.880005  380.000000  383.760010  382.300964   \n",
       "2023-01-05  381.720001  381.839996  378.760010  379.380005  377.937592   \n",
       "2023-01-06  382.609985  389.250000  379.410004  388.079987  386.604492   \n",
       "2023-01-09  390.369995  393.700012  387.670013  387.859985  386.385345   \n",
       "...                ...         ...         ...         ...         ...   \n",
       "2023-03-27  398.119995  398.920013  395.559998  396.489990  396.489990   \n",
       "2023-03-28  395.769989  396.489990  393.690002  395.600006  395.600006   \n",
       "2023-03-29  399.929993  401.600006  398.679993  401.350006  401.350006   \n",
       "2023-03-30  404.089996  404.350006  401.760010  403.700012  403.700012   \n",
       "2023-03-31  404.660004  409.700012  404.549988  409.390015  409.390015   \n",
       "\n",
       "               Volume  \n",
       "Date                   \n",
       "2023-01-03   74850700  \n",
       "2023-01-04   85934100  \n",
       "2023-01-05   76970500  \n",
       "2023-01-06  104189600  \n",
       "2023-01-09   73978100  \n",
       "...               ...  \n",
       "2023-03-27   74010400  \n",
       "2023-03-28   62871700  \n",
       "2023-03-29   77497900  \n",
       "2023-03-30   69840000  \n",
       "2023-03-31  111974600  \n",
       "\n",
       "[62 rows x 6 columns]"
      ]
     },
     "execution_count": 5,
     "metadata": {},
     "output_type": "execute_result"
    }
   ],
   "source": [
    "data"
   ]
  }
 ],
 "metadata": {
  "kernelspec": {
   "display_name": "Python 3 (ipykernel)",
   "language": "python",
   "name": "python3"
  },
  "language_info": {
   "codemirror_mode": {
    "name": "ipython",
    "version": 3
   },
   "file_extension": ".py",
   "mimetype": "text/x-python",
   "name": "python",
   "nbconvert_exporter": "python",
   "pygments_lexer": "ipython3",
   "version": "3.10.10"
  }
 },
 "nbformat": 4,
 "nbformat_minor": 5
}
