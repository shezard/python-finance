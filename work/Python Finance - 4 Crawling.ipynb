{
 "cells": [
  {
   "cell_type": "code",
   "execution_count": 21,
   "id": "accf9f36-5914-4a54-bd29-0c28baadb965",
   "metadata": {
    "tags": []
   },
   "outputs": [],
   "source": [
    "import bs4 as bs\n",
    "import pickle\n",
    "import requests\n",
    "import os"
   ]
  },
  {
   "cell_type": "code",
   "execution_count": 6,
   "id": "38ffd82d-abce-49bd-a781-2681f4442047",
   "metadata": {
    "tags": []
   },
   "outputs": [],
   "source": [
    "resp = requests.get(\"https://en.wikipedia.org/wiki/List_of_S%26P_500_companies\")\n",
    "soup = bs.BeautifulSoup(resp.text)"
   ]
  },
  {
   "cell_type": "code",
   "execution_count": 18,
   "id": "b648c172-97c1-4581-9345-8579dd5bd2c7",
   "metadata": {
    "tags": []
   },
   "outputs": [
    {
     "data": {
      "text/plain": [
       "'MMM'"
      ]
     },
     "execution_count": 18,
     "metadata": {},
     "output_type": "execute_result"
    }
   ],
   "source": [
    "table = soup.find(\"table\", {\"class\": \"wikitable sortable\"})\n",
    "tickers = []\n",
    "for row in table.findAll(\"tr\")[1:]:\n",
    "    ticker = row.findAll(\"td\")[0].text[:-1]\n",
    "    tickers.append(ticker)\n",
    "tickers[0]"
   ]
  },
  {
   "cell_type": "code",
   "execution_count": 27,
   "id": "d7a4a307-45be-44de-b3fe-25a3990d1265",
   "metadata": {
    "tags": []
   },
   "outputs": [],
   "source": [
    "with open(os.getcwd() + \"/data/sp500.pickle\", \"wb\") as f:\n",
    "    pickle.dump(tickers, f)"
   ]
  }
 ],
 "metadata": {
  "kernelspec": {
   "display_name": "Python 3 (ipykernel)",
   "language": "python",
   "name": "python3"
  },
  "language_info": {
   "codemirror_mode": {
    "name": "ipython",
    "version": 3
   },
   "file_extension": ".py",
   "mimetype": "text/x-python",
   "name": "python",
   "nbconvert_exporter": "python",
   "pygments_lexer": "ipython3",
   "version": "3.10.10"
  }
 },
 "nbformat": 4,
 "nbformat_minor": 5
}
